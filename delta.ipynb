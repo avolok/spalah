{
 "cells": [
  {
   "cell_type": "code",
   "execution_count": 4,
   "metadata": {},
   "outputs": [],
   "source": [
    "import pyspark\n",
    "from delta import *\n",
    "\n",
    "builder = pyspark.sql.SparkSession.builder.appName(\"MyApp\") \\\n",
    "    .config(\"spark.sql.extensions\", \"io.delta.sql.DeltaSparkSessionExtension\") \\\n",
    "    .config(\"spark.sql.catalog.spark_catalog\", \"org.apache.spark.sql.delta.catalog.DeltaCatalog\")\n",
    "\n",
    "spark = configure_spark_with_delta_pip(builder).getOrCreate()"
   ]
  },
  {
   "cell_type": "code",
   "execution_count": 2,
   "metadata": {},
   "outputs": [
    {
     "name": "stderr",
     "output_type": "stream",
     "text": [
      "                                                                                \r"
     ]
    }
   ],
   "source": [
    "_path = \"/Users/alexandrvolok/repos/spalah/tmp/range2\"\n",
    "\n",
    "\n",
    "spark.range(0,2).write.format(\"delta\").mode(\"overwrite\").save(_path)\n"
   ]
  },
  {
   "cell_type": "code",
   "execution_count": 78,
   "metadata": {},
   "outputs": [],
   "source": [
    "properties_to_set = {\n",
    "    \"delta.logRetentionDuration\": \"interval 10 days\",\n",
    "     \"delta.deletedFileRetentionDuration\": \"interval 16 days\"\n",
    "}\n"
   ]
  },
  {
   "cell_type": "code",
   "execution_count": 28,
   "metadata": {},
   "outputs": [],
   "source": [
    "_dt_ref = DeltaTable.forPath(path=_path, sparkSession=spark)"
   ]
  },
  {
   "cell_type": "code",
   "execution_count": 29,
   "metadata": {},
   "outputs": [
    {
     "data": {
      "text/plain": [
       "DataFrame[id: bigint]"
      ]
     },
     "execution_count": 29,
     "metadata": {},
     "output_type": "execute_result"
    }
   ],
   "source": [
    "spark.sql(\"select * from delta.`/Users/alexandrvolok/repos/spalah/tmp/range2`\")"
   ]
  },
  {
   "cell_type": "code",
   "execution_count": 17,
   "metadata": {},
   "outputs": [],
   "source": [
    "from delta import *\n",
    "\n",
    "def set_table_properties(\n",
    "    properties: dict,\n",
    "    table_path: str = '',\n",
    "    table_name: str = '',    \n",
    "    allow_unset: bool = False\n",
    ") -> None:\n",
    "    \"\"\"Sets and unsets pyspark table properties. If the property already \n",
    "    set with a requested value ALTER TABLE will not be triggered again\n",
    "\n",
    "    Args:\n",
    "        properties (dict):              A dictionary with properties to set. \n",
    "                                        For instance: {\"delta.logRetentionDuration\": \"interval 10 days\"}\n",
    "        table_path (str, optional):     Path to delta table Defaults to ''.\n",
    "        table_name (str, optional):     Delta table name. For instance: db1.table1. Defaults to ''.\n",
    "        allow_unset (bool, optional):   When enabled, properties which are not defined in 'properties' \n",
    "                                        but set on table will be unset. Defaults to False.\n",
    "\n",
    "    Raises:\n",
    "        ValueError: if values for both 'table_path' and 'table_name' provided\n",
    "                    provide values to one of them\n",
    "        ValueError: if values for neither 'table_path' nor 'table_name' provided\n",
    "                    provide values to one of them\n",
    "    \"\"\"    \n",
    "    if table_path and table_name:\n",
    "        raise ValueError(\"Both 'table_path' and 'table_name' provided. Use one of them.\")\n",
    "\n",
    "    if table_path and table_name:\n",
    "        raise ValueError(\"Neither 'table_path' nor 'table_name' defined. Use one of them.\")\n",
    "\n",
    "    if table_path:\n",
    "        table_name = f\"delta.`{_path}`\"\n",
    "\n",
    "    if  table_path:\n",
    "        _delta_table = DeltaTable.forPath(path=_path, sparkSession=spark)\n",
    "    else:\n",
    "        _delta_table = DeltaTable.forName(tableOrViewName=table_name, sparkSession=spark)\n",
    "\n",
    "    if not _delta_table:\n",
    "        print(f\"{table_name} is not a Delta Table\")\n",
    "    else:\n",
    "        _existing_properties = _delta_table.detail().collect()[0].asDict()[\"properties\"]\n",
    "        \n",
    "        print(f\"Applying table properties on '{table_name}':\")\n",
    "\n",
    "        for k,v in properties.items():\n",
    "            \n",
    "            print(f\" - Checking if '{k} = {v}' is set on {table_name}\")\n",
    "\n",
    "            if k in _existing_properties and _existing_properties[k] == v:            \n",
    "                print (\"   Result: The property already exists on the table\")\n",
    "            else:\n",
    "                _sql = f\"ALTER TABLE {table_name} SET TBLPROPERTIES ({k} = '{v}')\"\n",
    "                spark.sql(_sql)\n",
    "                print (f\"   Result: The property has been set\")\n",
    "\n",
    "        if allow_unset:\n",
    "            for k, v in _existing_properties.items():\n",
    "                if k not in properties:\n",
    "                    _sql = f\"ALTER TABLE {table_name} UNSET TBLPROPERTIES ({k})\"\n",
    "                    spark.sql(_sql)\n",
    "                    print (\n",
    "                        f\"   The property '{k} = {v}' has been unset because it is not defined in \"\n",
    "                        \"the original dict\"\n",
    "                    )\n"
   ]
  },
  {
   "cell_type": "code",
   "execution_count": null,
   "metadata": {},
   "outputs": [],
   "source": [
    "properties_to_set = {\n",
    "    \"delta.logRetentionDuration\": \"interval 10 days\",\n",
    "     \"delta.deletedFileRetentionDuration\": \"interval 17 days\"\n",
    "}\n",
    "\n"
   ]
  },
  {
   "cell_type": "code",
   "execution_count": 16,
   "metadata": {},
   "outputs": [
    {
     "name": "stdout",
     "output_type": "stream",
     "text": [
      "Applying table properties on 'delta.`/Users/alexandrvolok/repos/spalah/tmp/range2`':\n",
      " - Checking if 'delta.logRetentionDuration = interval 10 days' is set on delta.`/Users/alexandrvolok/repos/spalah/tmp/range2`\n",
      "   Result: The property already exists on the table\n",
      " - Checking if 'delta.deletedFileRetentionDuration = interval 15 days' is set on delta.`/Users/alexandrvolok/repos/spalah/tmp/range2`\n",
      "   Result: The property has been set\n"
     ]
    }
   ],
   "source": [
    "set_table_properties(\n",
    "    table_path='/Users/alexandrvolok/repos/spalah/tmp/range2',\n",
    "    properties={\n",
    "        \"delta.logRetentionDuration\": \"interval 10 days\",\n",
    "        \"delta.deletedFileRetentionDuration\": \"interval 15 days\"\n",
    "    },\n",
    "    allow_unset=True\n",
    ")"
   ]
  },
  {
   "cell_type": "code",
   "execution_count": 18,
   "metadata": {},
   "outputs": [],
   "source": [
    "from typing import Union\n",
    "from pyspark.sql import SparkSession\n",
    "\n",
    "def get_table_properties(        \n",
    "    table_path: str = '',\n",
    "    table_name: str = '',        \n",
    "    spark_session:Union[SparkSession,None] = None\n",
    ") -> dict:\n",
    "    \"\"\"Gets pyspark table properties.\n",
    "\n",
    "    Args:        \n",
    "        table_path (str, optional):     Path to delta table Defaults to ''.\n",
    "        table_name (str, optional):     Delta table name. For instance: db1.table1. Defaults to ''.        \n",
    "        spark_session: (SparkSession, optional)  The current spark context. \n",
    "                                                 If not defined the getActiveSession() will be used\n",
    "\n",
    "    Raises:\n",
    "        ValueError: if values for both 'table_path' and 'table_name' provided\n",
    "                    provide values to one of them\n",
    "        ValueError: if values for neither 'table_path' nor 'table_name' provided\n",
    "                    provide values to one of them\n",
    "    \"\"\"\n",
    "\n",
    "    _existing_properties = dict()\n",
    "    \n",
    "    if table_path and table_name:\n",
    "        raise ValueError(\"Both 'table_path' and 'table_name' provided. Use one of them.\")\n",
    "\n",
    "    if table_path and table_name:\n",
    "        raise ValueError(\"Neither 'table_path' nor 'table_name' defined. Use one of them.\")\n",
    "\n",
    "\n",
    "    if not spark_session:\n",
    "        spark_session = SparkSession.getActiveSession()\n",
    "\n",
    "    if table_path:\n",
    "        table_name = f\"delta.`{table_path}`\"\n",
    "\n",
    "    if  table_path:\n",
    "        _delta_table = DeltaTable.forPath(path=table_path, sparkSession=spark_session)\n",
    "    else:\n",
    "        _delta_table = DeltaTable.forName(tableOrViewName=table_name, sparkSession=spark_session)\n",
    "\n",
    "    if not _delta_table:\n",
    "        print(f\"{table_name} is not a Delta Table\")\n",
    "    else:\n",
    "        _existing_properties = _delta_table.detail().collect()[0].asDict()[\"properties\"]\n",
    "        \n",
    "    return _existing_properties"
   ]
  },
  {
   "cell_type": "code",
   "execution_count": 19,
   "metadata": {},
   "outputs": [
    {
     "data": {
      "text/plain": [
       "{'delta.deletedFileRetentionDuration': 'interval 15 days',\n",
       " 'delta.logRetentionDuration': 'interval 10 days'}"
      ]
     },
     "execution_count": 19,
     "metadata": {},
     "output_type": "execute_result"
    }
   ],
   "source": [
    "get_table_properties(table_path=\"/Users/alexandrvolok/repos/spalah/tmp/range2\")"
   ]
  },
  {
   "cell_type": "code",
   "execution_count": 5,
   "metadata": {},
   "outputs": [],
   "source": [
    "from spalah.datalake import get_table_properties as g2"
   ]
  },
  {
   "cell_type": "code",
   "execution_count": 6,
   "metadata": {},
   "outputs": [
    {
     "name": "stdout",
     "output_type": "stream",
     "text": [
      "delta.`abc` is not a Delta Table\n"
     ]
    },
    {
     "name": "stdout",
     "output_type": "stream",
     "text": [
      "22/09/30 21:27:25 WARN HeartbeatReceiver: Removing executor driver with no recent heartbeats: 121536 ms exceeds timeout 120000 ms\n",
      "22/09/30 21:27:25 WARN SparkContext: Killing executors is not supported by current scheduler.\n"
     ]
    }
   ],
   "source": [
    "g2(table_path=\"abc\")"
   ]
  },
  {
   "cell_type": "code",
   "execution_count": 3,
   "metadata": {},
   "outputs": [],
   "source": [
    "from delta import *"
   ]
  },
  {
   "cell_type": "code",
   "execution_count": 6,
   "metadata": {},
   "outputs": [
    {
     "ename": "NameError",
     "evalue": "name 'spark' is not defined",
     "output_type": "error",
     "traceback": [
      "\u001b[0;31m---------------------------------------------------------------------------\u001b[0m",
      "\u001b[0;31mNameError\u001b[0m                                 Traceback (most recent call last)",
      "\u001b[1;32m/Users/alexandrvolok/repos/spalah/delta.ipynb Cell 14\u001b[0m in \u001b[0;36m<cell line: 1>\u001b[0;34m()\u001b[0m\n\u001b[0;32m----> <a href='vscode-notebook-cell:/Users/alexandrvolok/repos/spalah/delta.ipynb#X16sZmlsZQ%3D%3D?line=0'>1</a>\u001b[0m DeltaTable\u001b[39m.\u001b[39misDeltaTable(sparkSession\u001b[39m=\u001b[39mspark, identifier\u001b[39m=\u001b[39m\u001b[39m\"\u001b[39m\u001b[39mabc\u001b[39m\u001b[39m\"\u001b[39m)\n",
      "\u001b[0;31mNameError\u001b[0m: name 'spark' is not defined"
     ]
    }
   ],
   "source": [
    "DeltaTable.isDeltaTable(sparkSession=spark, identifier=\"abc\")"
   ]
  }
 ],
 "metadata": {
  "kernelspec": {
   "display_name": "Python 3.10.2 ('majordomo_dev')",
   "language": "python",
   "name": "python3"
  },
  "language_info": {
   "codemirror_mode": {
    "name": "ipython",
    "version": 3
   },
   "file_extension": ".py",
   "mimetype": "text/x-python",
   "name": "python",
   "nbconvert_exporter": "python",
   "pygments_lexer": "ipython3",
   "version": "3.10.6"
  },
  "orig_nbformat": 4,
  "vscode": {
   "interpreter": {
    "hash": "ea01404e3c327cb9ebba1c563949013e196f3e578c88bbbd7b5e7b4d4085f16c"
   }
  }
 },
 "nbformat": 4,
 "nbformat_minor": 2
}
