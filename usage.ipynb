{
 "cells": [
  {
   "cell_type": "code",
   "execution_count": null,
   "metadata": {},
   "outputs": [],
   "source": [
    "%load_ext autoreload\n",
    "%autoreload 2\n",
    "\n",
    "from spalah.dataframe import slice_dataframe\n",
    "from pyspark.sql import SparkSession, DataFrame"
   ]
  },
  {
   "cell_type": "code",
   "execution_count": null,
   "metadata": {},
   "outputs": [],
   "source": [
    "spark = SparkSession.builder.getOrCreate()"
   ]
  },
  {
   "cell_type": "code",
   "execution_count": null,
   "metadata": {},
   "outputs": [],
   "source": [
    "from datetime import datetime, date\n",
    "\n",
    "from pyspark.sql import Row\n",
    "\n",
    "df = spark.createDataFrame([\n",
    "    Row(a=1, b=2., c='string1', d=date(2000, 1, 1), e=datetime(2000, 1, 1, 12, 0)),\n",
    "    Row(a=2, b=3., c='string2', d=date(2000, 2, 1), e=datetime(2000, 1, 2, 12, 0)),    \n",
    "])\n",
    "df.show()"
   ]
  },
  {
   "cell_type": "code",
   "execution_count": null,
   "metadata": {},
   "outputs": [],
   "source": [
    "from spalah.dataframe import slice_dataframe\n",
    "\n",
    "slice_dataframe(\n",
    "    input_dataframe=df,\n",
    "    columns_to_include=[\"a\", \"b\", \"c\", \"d\"],    \n",
    "    columns_to_exclude=[],\n",
    "    nullify_only=False\n",
    ").printSchema()"
   ]
  },
  {
   "cell_type": "code",
   "execution_count": null,
   "metadata": {},
   "outputs": [],
   "source": [
    "nested_df = spark.sql(\"\"\"\n",
    "select \n",
    "    1 as column_a\n",
    ",   2.0 as column_b\n",
    ",   struct(\n",
    "        \"c1\" as column_c_1\n",
    "    ,   struct(\n",
    "            \"c_2_1\" as c_2_1,\n",
    "            \"c_2_2\" as c_2_2,\n",
    "            \"c_2_3\" as c_2_3\n",
    "    ) as column_c_2\n",
    ") as column_c\n",
    "\"\"\")"
   ]
  },
  {
   "cell_type": "code",
   "execution_count": null,
   "metadata": {},
   "outputs": [],
   "source": [
    "nested_df.printSchema()"
   ]
  },
  {
   "cell_type": "code",
   "execution_count": null,
   "metadata": {},
   "outputs": [],
   "source": [
    "slice_dataframe(\n",
    "    input_dataframe=nested_df,\n",
    "    columns_to_include=[\"column_c\"],\n",
    "    columns_to_exclude=[\"column_c.column_c_1\"],\n",
    "    nullify_only=False,\n",
    "    debug=False\n",
    ").select(\"column_c.*\").show(10, False)"
   ]
  }
 ],
 "metadata": {
  "kernelspec": {
   "display_name": "Python 3.10.2 ('spalah')",
   "language": "python",
   "name": "python3"
  },
  "language_info": {
   "codemirror_mode": {
    "name": "ipython",
    "version": 3
   },
   "file_extension": ".py",
   "mimetype": "text/x-python",
   "name": "python",
   "nbconvert_exporter": "python",
   "pygments_lexer": "ipython3",
   "version": "3.10.2"
  },
  "orig_nbformat": 4,
  "vscode": {
   "interpreter": {
    "hash": "257711548178d2cb2d5540aed74584fc22fa35e89db7e47a5d0185909a4181b1"
   }
  }
 },
 "nbformat": 4,
 "nbformat_minor": 2
}
