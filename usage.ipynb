{
 "cells": [
  {
   "cell_type": "code",
   "execution_count": 1,
   "metadata": {},
   "outputs": [],
   "source": [
    "%load_ext autoreload\n",
    "%autoreload 2\n",
    "\n",
    "from spalah.dataframe import slice_dataframe, SchemaComparer\n",
    "from pyspark.sql import SparkSession, DataFrame"
   ]
  },
  {
   "cell_type": "code",
   "execution_count": 2,
   "metadata": {},
   "outputs": [
    {
     "name": "stderr",
     "output_type": "stream",
     "text": [
      "22/07/17 18:40:11 WARN Utils: Your hostname, Alexandrs-MacBook-Air.local resolves to a loopback address: 127.0.0.1; using 192.168.68.121 instead (on interface en0)\n",
      "22/07/17 18:40:11 WARN Utils: Set SPARK_LOCAL_IP if you need to bind to another address\n",
      "WARNING: An illegal reflective access operation has occurred\n",
      "WARNING: Illegal reflective access by org.apache.spark.unsafe.Platform (file:/Users/alexandrvolok/repos/.envs/psdt/lib/python3.10/site-packages/pyspark/jars/spark-unsafe_2.12-3.2.1.jar) to constructor java.nio.DirectByteBuffer(long,int)\n",
      "WARNING: Please consider reporting this to the maintainers of org.apache.spark.unsafe.Platform\n",
      "WARNING: Use --illegal-access=warn to enable warnings of further illegal reflective access operations\n",
      "WARNING: All illegal access operations will be denied in a future release\n",
      "Using Spark's default log4j profile: org/apache/spark/log4j-defaults.properties\n",
      "Setting default log level to \"WARN\".\n",
      "To adjust logging level use sc.setLogLevel(newLevel). For SparkR, use setLogLevel(newLevel).\n",
      "22/07/17 18:40:11 WARN NativeCodeLoader: Unable to load native-hadoop library for your platform... using builtin-java classes where applicable\n"
     ]
    }
   ],
   "source": [
    "spark = SparkSession.builder.getOrCreate()"
   ]
  },
  {
   "cell_type": "code",
   "execution_count": null,
   "metadata": {},
   "outputs": [],
   "source": [
    "from datetime import datetime, date\n",
    "\n",
    "from pyspark.sql import Row\n",
    "\n",
    "df = spark.createDataFrame([\n",
    "    Row(a=1, b=2., c='string1', d=date(2000, 1, 1), e=datetime(2000, 1, 1, 12, 0)),\n",
    "    Row(a=2, b=3., c='string2', d=date(2000, 2, 1), e=datetime(2000, 1, 2, 12, 0)),    \n",
    "])\n",
    "df.show()"
   ]
  },
  {
   "cell_type": "code",
   "execution_count": null,
   "metadata": {},
   "outputs": [],
   "source": [
    "from spalah.dataframe import slice_dataframe\n",
    "\n",
    "slice_dataframe(\n",
    "    input_dataframe=df,\n",
    "    columns_to_include=[\"a\", \"b\", \"c\", \"d\"],    \n",
    "    columns_to_exclude=[],\n",
    "    nullify_only=False\n",
    ").printSchema()"
   ]
  },
  {
   "cell_type": "code",
   "execution_count": null,
   "metadata": {},
   "outputs": [],
   "source": [
    "nested_df = spark.sql(\"\"\"\n",
    "select \n",
    "    1 as column_a\n",
    ",   2.0 as column_b\n",
    ",   struct(\n",
    "        \"c1\" as column_c_1\n",
    "    ,   struct(\n",
    "            \"c_2_1\" as c_2_1,\n",
    "            \"c_2_2\" as c_2_2,\n",
    "            \"c_2_3\" as c_2_3\n",
    "    ) as column_c_2\n",
    ") as column_c\n",
    "\"\"\")"
   ]
  },
  {
   "cell_type": "code",
   "execution_count": null,
   "metadata": {},
   "outputs": [],
   "source": [
    "nested_df.printSchema()"
   ]
  },
  {
   "cell_type": "code",
   "execution_count": null,
   "metadata": {},
   "outputs": [],
   "source": [
    "slice_dataframe(\n",
    "    input_dataframe=nested_df,\n",
    "    columns_to_include=[\"column_c\"],\n",
    "    columns_to_exclude=[\"column_c.column_c_1\"],\n",
    "    nullify_only=False,\n",
    "    debug=False\n",
    ").select(\"column_c.*\").show(10, False)"
   ]
  },
  {
   "cell_type": "markdown",
   "metadata": {},
   "source": [
    "### SchemaComparer"
   ]
  },
  {
   "cell_type": "code",
   "execution_count": 3,
   "metadata": {},
   "outputs": [
    {
     "name": "stdout",
     "output_type": "stream",
     "text": [
      "root\n",
      " |-- ID: integer (nullable = false)\n",
      " |-- Name: string (nullable = false)\n",
      " |-- Address: struct (nullable = false)\n",
      " |    |-- Line1: string (nullable = false)\n",
      " |    |-- Line2: string (nullable = false)\n",
      "\n",
      "root\n",
      " |-- ID: string (nullable = false)\n",
      " |-- name: string (nullable = false)\n",
      " |-- Address: struct (nullable = false)\n",
      " |    |-- Line1: string (nullable = false)\n",
      "\n"
     ]
    }
   ],
   "source": [
    "df_source = spark.sql(\n",
    "    'SELECT 1 as ID, \"John\" AS Name, struct(\"line1\" AS Line1, \"line2\" AS Line2) AS Address'\n",
    ")\n",
    "df_source.printSchema()\n",
    "\n",
    "df_target = spark.sql(\n",
    "    'SELECT \"a\" as ID, \"John\" AS name, struct(\"line1\" AS Line1) AS Address'\n",
    ")\n",
    "df_target.printSchema()\n",
    "\n",
    "\n"
   ]
  },
  {
   "cell_type": "code",
   "execution_count": 4,
   "metadata": {},
   "outputs": [],
   "source": [
    "schema_comparer = SchemaComparer(\n",
    "    source_schema = df_source.schema,\n",
    "    target_schema = df_target.schema\n",
    ")\n",
    "\n",
    "schema_comparer.compare()\n",
    "\n",
    "schema_comparer.matched\n",
    "schema_comparer.not_matched"
   ]
  }
 ],
 "metadata": {
  "kernelspec": {
   "display_name": "Python 3.10.2 ('spalah')",
   "language": "python",
   "name": "python3"
  },
  "language_info": {
   "codemirror_mode": {
    "name": "ipython",
    "version": 3
   },
   "file_extension": ".py",
   "mimetype": "text/x-python",
   "name": "python",
   "nbconvert_exporter": "python",
   "pygments_lexer": "ipython3",
   "version": "3.10.2"
  },
  "orig_nbformat": 4,
  "vscode": {
   "interpreter": {
    "hash": "257711548178d2cb2d5540aed74584fc22fa35e89db7e47a5d0185909a4181b1"
   }
  }
 },
 "nbformat": 4,
 "nbformat_minor": 2
}
